{
 "cells": [
  {
   "cell_type": "code",
   "execution_count": null,
   "metadata": {},
   "outputs": [],
   "source": [
    "import tkinter as tk\n",
    "\n",
    "#components  needed\n",
    "#1. 2D map to set the waypoint\n",
    "#2. compass like staff to show yaw angle\n",
    "#3. circular object to show roll and pitch\n",
    "#4. interface to designate yaw angle\n",
    "#5. (optional) interface to set elevation angle or roll angle\n",
    "#6. \n",
    "\n",
    "class MainApplication(tk.Frame):\n",
    "    def __init__(self, parent, *args, **kwargs):\n",
    "        tk.Frame.__init__(self, parent, *args, **kwargs)\n",
    "        self.parent = parent\n",
    "        \n",
    "\n",
    "if __name__ == \"__main__\":\n",
    "    root = tk.Tk()\n",
    "    MainApplication(root).pack(side=\"top\", fill=\"both\", expand=True)\n",
    "    root.mainloop()"
   ]
  }
 ],
 "metadata": {
  "kernelspec": {
   "display_name": "Python 3",
   "language": "python",
   "name": "python3"
  },
  "language_info": {
   "codemirror_mode": {
    "name": "ipython",
    "version": 3
   },
   "file_extension": ".py",
   "mimetype": "text/x-python",
   "name": "python",
   "nbconvert_exporter": "python",
   "pygments_lexer": "ipython3",
   "version": "3.6.6"
  }
 },
 "nbformat": 4,
 "nbformat_minor": 2
}
